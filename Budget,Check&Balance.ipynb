{
  "nbformat": 4,
  "nbformat_minor": 0,
  "metadata": {
    "colab": {
      "provenance": [],
      "authorship_tag": "ABX9TyMRMD7YiE3cM0dYKUcktMV1",
      "include_colab_link": true
    },
    "kernelspec": {
      "name": "python3",
      "display_name": "Python 3"
    },
    "language_info": {
      "name": "python"
    }
  },
  "cells": [
    {
      "cell_type": "markdown",
      "metadata": {
        "id": "view-in-github",
        "colab_type": "text"
      },
      "source": [
        "<a href=\"https://colab.research.google.com/github/srikar0313/ML-projects/blob/main/Budget%2CCheck%26Balance.ipynb\" target=\"_parent\"><img src=\"https://colab.research.google.com/assets/colab-badge.svg\" alt=\"Open In Colab\"/></a>"
      ]
    },
    {
      "cell_type": "code",
      "execution_count": 6,
      "metadata": {
        "colab": {
          "base_uri": "https://localhost:8080/",
          "height": 1000
        },
        "id": "0NRw6DJv0yNl",
        "outputId": "4c1f2e88-86a9-4ab6-9128-de3548ab6dbf"
      },
      "outputs": [
        {
          "name": "stdout",
          "output_type": "stream",
          "text": [
            "\n",
            "1.Add a new transcation\n",
            "2.View the Transaction and summary within the range\n",
            "3.Exit\n",
            "Enter the choice (1-3):2\n",
            "Enter the start_date (dd-mm-yyyy):01-01-2000\n",
            "Enter the end_date (dd-mm-yyyy):01-01-2025\n",
            "Transactions from 01-01-2000 to 01-01-2025\n",
            "      Date  Amount Category Description\n",
            "17-07-2024    50.0   Income         ssf\n",
            "17-07-2024   542.0   Income          sf\n",
            "17-07-2024   412.0  Expense         sff\n",
            "\n",
            " SUMMARY\n",
            "\n",
            "Total Income:592.00Rs\n",
            "Total expense:412.00Rs\n",
            "Savings=180.00Rs\n",
            "do u want to see graph?(y/n)y\n"
          ]
        },
        {
          "output_type": "display_data",
          "data": {
            "text/plain": [
              "<Figure size 1000x500 with 1 Axes>"
            ],
            "image/png": "[encoded data removed]"
          },
          "metadata": {}
        },
        {
          "output_type": "stream",
          "name": "stdout",
          "text": [
            "\n",
            "1.Add a new transcation\n",
            "2.View the Transaction and summary within the range\n",
            "3.Exit\n"
          ]
        },
        {
          "output_type": "error",
          "ename": "KeyboardInterrupt",
          "evalue": "Interrupted by user",
          "traceback": [
            "\u001b[0;31m---------------------------------------------------------------------------\u001b[0m",
            "\u001b[0;31mKeyboardInterrupt\u001b[0m                         Traceback (most recent call last)",
            "\u001b[0;32m<ipython-input-6-d4ee8230e7a1>\u001b[0m in \u001b[0;36m<cell line: 134>\u001b[0;34m()\u001b[0m\n\u001b[1;32m    133\u001b[0m \u001b[0;34m\u001b[0m\u001b[0m\n\u001b[1;32m    134\u001b[0m \u001b[0;32mif\u001b[0m \u001b[0m__name__\u001b[0m\u001b[0;34m==\u001b[0m\u001b[0;34m\"__main__\"\u001b[0m\u001b[0;34m:\u001b[0m\u001b[0;34m\u001b[0m\u001b[0;34m\u001b[0m\u001b[0m\n\u001b[0;32m--> 135\u001b[0;31m     \u001b[0mmain\u001b[0m\u001b[0;34m(\u001b[0m\u001b[0;34m)\u001b[0m\u001b[0;34m\u001b[0m\u001b[0;34m\u001b[0m\u001b[0m\n\u001b[0m\u001b[1;32m    136\u001b[0m \u001b[0;34m\u001b[0m\u001b[0m\n\u001b[1;32m    137\u001b[0m \u001b[0;34m\u001b[0m\u001b[0m\n",
            "\u001b[0;32m<ipython-input-6-d4ee8230e7a1>\u001b[0m in \u001b[0;36mmain\u001b[0;34m()\u001b[0m\n\u001b[1;32m    117\u001b[0m         \u001b[0mprint\u001b[0m\u001b[0;34m(\u001b[0m\u001b[0;34m\"2.View the Transaction and summary within the range\"\u001b[0m\u001b[0;34m)\u001b[0m\u001b[0;34m\u001b[0m\u001b[0;34m\u001b[0m\u001b[0m\n\u001b[1;32m    118\u001b[0m         \u001b[0mprint\u001b[0m\u001b[0;34m(\u001b[0m\u001b[0;34m\"3.Exit\"\u001b[0m\u001b[0;34m)\u001b[0m\u001b[0;34m\u001b[0m\u001b[0;34m\u001b[0m\u001b[0m\n\u001b[0;32m--> 119\u001b[0;31m         \u001b[0mchoice\u001b[0m\u001b[0;34m=\u001b[0m\u001b[0minput\u001b[0m\u001b[0;34m(\u001b[0m\u001b[0;34m\"Enter the choice (1-3):\"\u001b[0m\u001b[0;34m)\u001b[0m\u001b[0;34m\u001b[0m\u001b[0;34m\u001b[0m\u001b[0m\n\u001b[0m\u001b[1;32m    120\u001b[0m         \u001b[0;32mif\u001b[0m \u001b[0mchoice\u001b[0m\u001b[0;34m==\u001b[0m\u001b[0;34m\"1\"\u001b[0m\u001b[0;34m:\u001b[0m\u001b[0;34m\u001b[0m\u001b[0;34m\u001b[0m\u001b[0m\n\u001b[1;32m    121\u001b[0m             \u001b[0madd\u001b[0m\u001b[0;34m(\u001b[0m\u001b[0;34m)\u001b[0m\u001b[0;34m\u001b[0m\u001b[0;34m\u001b[0m\u001b[0m\n",
            "\u001b[0;32m/usr/local/lib/python3.10/dist-packages/ipykernel/kernelbase.py\u001b[0m in \u001b[0;36mraw_input\u001b[0;34m(self, prompt)\u001b[0m\n\u001b[1;32m    849\u001b[0m                 \u001b[0;34m\"raw_input was called, but this frontend does not support input requests.\"\u001b[0m\u001b[0;34m\u001b[0m\u001b[0;34m\u001b[0m\u001b[0m\n\u001b[1;32m    850\u001b[0m             )\n\u001b[0;32m--> 851\u001b[0;31m         return self._input_request(str(prompt),\n\u001b[0m\u001b[1;32m    852\u001b[0m             \u001b[0mself\u001b[0m\u001b[0;34m.\u001b[0m\u001b[0m_parent_ident\u001b[0m\u001b[0;34m,\u001b[0m\u001b[0;34m\u001b[0m\u001b[0;34m\u001b[0m\u001b[0m\n\u001b[1;32m    853\u001b[0m             \u001b[0mself\u001b[0m\u001b[0;34m.\u001b[0m\u001b[0m_parent_header\u001b[0m\u001b[0;34m,\u001b[0m\u001b[0;34m\u001b[0m\u001b[0;34m\u001b[0m\u001b[0m\n",
            "\u001b[0;32m/usr/local/lib/python3.10/dist-packages/ipykernel/kernelbase.py\u001b[0m in \u001b[0;36m_input_request\u001b[0;34m(self, prompt, ident, parent, password)\u001b[0m\n\u001b[1;32m    893\u001b[0m             \u001b[0;32mexcept\u001b[0m \u001b[0mKeyboardInterrupt\u001b[0m\u001b[0;34m:\u001b[0m\u001b[0;34m\u001b[0m\u001b[0;34m\u001b[0m\u001b[0m\n\u001b[1;32m    894\u001b[0m                 \u001b[0;31m# re-raise KeyboardInterrupt, to truncate traceback\u001b[0m\u001b[0;34m\u001b[0m\u001b[0;34m\u001b[0m\u001b[0m\n\u001b[0;32m--> 895\u001b[0;31m                 \u001b[0;32mraise\u001b[0m \u001b[0mKeyboardInterrupt\u001b[0m\u001b[0;34m(\u001b[0m\u001b[0;34m\"Interrupted by user\"\u001b[0m\u001b[0;34m)\u001b[0m \u001b[0;32mfrom\u001b[0m \u001b[0;32mNone\u001b[0m\u001b[0;34m\u001b[0m\u001b[0;34m\u001b[0m\u001b[0m\n\u001b[0m\u001b[1;32m    896\u001b[0m             \u001b[0;32mexcept\u001b[0m \u001b[0mException\u001b[0m \u001b[0;32mas\u001b[0m \u001b[0me\u001b[0m\u001b[0;34m:\u001b[0m\u001b[0;34m\u001b[0m\u001b[0;34m\u001b[0m\u001b[0m\n\u001b[1;32m    897\u001b[0m                 \u001b[0mself\u001b[0m\u001b[0;34m.\u001b[0m\u001b[0mlog\u001b[0m\u001b[0;34m.\u001b[0m\u001b[0mwarning\u001b[0m\u001b[0;34m(\u001b[0m\u001b[0;34m\"Invalid Message:\"\u001b[0m\u001b[0;34m,\u001b[0m \u001b[0mexc_info\u001b[0m\u001b[0;34m=\u001b[0m\u001b[0;32mTrue\u001b[0m\u001b[0;34m)\u001b[0m\u001b[0;34m\u001b[0m\u001b[0;34m\u001b[0m\u001b[0m\n",
            "\u001b[0;31mKeyboardInterrupt\u001b[0m: Interrupted by user"
          ]
        }
      ],
      "source": [
        "import pandas as pd\n",
        "import csv\n",
        "import matplotlib.pyplot as plt\n",
        "from datetime import datetime\n",
        "\n",
        "date_format=\"%d-%m-%Y\"\n",
        "CATEGORIES={\"I\": \"Income\",\"E\": \"Expense\"}\n",
        "\n",
        "def get_date(prompt,allow_default=False):\n",
        "    date_str=input(prompt)\n",
        "    if allow_default and not date_str:\n",
        "        return datetime.today().strftime(date_format)\n",
        "\n",
        "    try:\n",
        "        valid_date=datetime.strptime(date_str,date_format)\n",
        "        return valid_date.strftime(date_format)\n",
        "    except ValueError:\n",
        "        print(\"invalid date format,format should be in dd-mm-yyyy format\")\n",
        "        return get_date(prompt,allow_default)\n",
        "\n",
        "def get_amount():\n",
        "    try:\n",
        "        amount=float(input(\"Enter the amount: \"))\n",
        "        if amount<=0:\n",
        "            raise ValueError(\"Amount dhould not be in negative.\")\n",
        "        return amount\n",
        "    except ValueError as e:\n",
        "        print(e)\n",
        "        return get_amount()\n",
        "\n",
        "def get_category():\n",
        "    category=input(\"Enter the category('I' for income or 'E' for expense): \").upper()\n",
        "    if category in CATEGORIES:\n",
        "        return CATEGORIES[category]\n",
        "    print(\"Invalid entry!\")\n",
        "    return get_category()\n",
        "\n",
        "def get_discription():\n",
        "    return input(\"Enter anything(optional)\")\n",
        "\n",
        "class CSV:\n",
        "    CSV_FILE=\"finance_data.csv\"\n",
        "    COLUMNS=[\"Date\", \"Amount\", \"Category\", \"Discription\"]\n",
        "    FORMAT=\"%d-%m-%Y\"\n",
        "\n",
        "    @classmethod\n",
        "    def initalize_csv(cls):\n",
        "        try:\n",
        "            pd.read_csv(cls.CSV_FILE)\n",
        "        except FileNotFoundError:\n",
        "            df=pd.DataFrame(columns=cls.COLUMNS)#dataframe is aobject which is used to access the rows and columns in the file\n",
        "            df.to_csv(cls.CSV_FILE,index=False)\n",
        "\n",
        "    @classmethod\n",
        "    def add_entry(cls,date,amount,category,discription):\n",
        "        new_entry={\n",
        "            \"Date\":date,\n",
        "            \"Amount\":amount,\n",
        "            \"Category\":category,\n",
        "            \"Discription\":discription\n",
        "        }\n",
        "        with open(cls.CSV_FILE, \"a\", newline=\"\") as csvfile:\n",
        "            writer = csv.DictWriter(csvfile, fieldnames=cls.COLUMNS)\n",
        "            writer.writerow(new_entry)\n",
        "        print(\"Entry added successfully\")\n",
        "\n",
        "    @classmethod\n",
        "    def get_transactions(cls,start_date,end_date):\n",
        "        df=pd.read_csv(cls.CSV_FILE)\n",
        "        df[\"Date\"]=pd.to_datetime(df[\"Date\"],format=CSV.FORMAT)\n",
        "        start_date=datetime.strptime(start_date,CSV.FORMAT)\n",
        "        end_date=datetime.strptime(end_date,CSV.FORMAT)\n",
        "\n",
        "        mask=(df[\"Date\"] >= start_date)& (df[\"Date\"] <= end_date)\n",
        "        filtered_df=df.loc[mask]\n",
        "\n",
        "        if filtered_df.empty:\n",
        "            print(\"No transactions found in given date range\")\n",
        "            return None\n",
        "        else:\n",
        "            print(f\"Transactions from {start_date.strftime(CSV.FORMAT)} to {end_date.strftime(CSV.FORMAT)}\")\n",
        "            print(filtered_df.to_string(index=False,formatters={\"Date\": lambda x: x.strftime(CSV.FORMAT)}))\n",
        "\n",
        "            total_income=filtered_df[filtered_df[\"Category\"]== \"Income\"][\"Amount\"].sum()\n",
        "            total_expense=filtered_df[filtered_df[\"Category\"]== \"Expense\"][\"Amount\"].sum()\n",
        "            print(\"\\n SUMMARY\\n\")\n",
        "            print(f\"Total Income:{total_income:.2f}Rs\")\n",
        "            print(f\"Total expense:{total_expense:.2f}Rs\")\n",
        "            print(f\"Savings={(total_income-total_expense):.2f}Rs\")\n",
        "            return filtered_df\n",
        "\n",
        "\n",
        "def add():\n",
        "    CSV.initalize_csv()\n",
        "    date=get_date(\"Enter the date of transaction(dd-mm-yyyy) or enter todays date: \",allow_default=True)\n",
        "    amount=get_amount()\n",
        "    category=get_category()\n",
        "    discription=get_discription()\n",
        "    CSV.add_entry(date,amount,category,discription)\n",
        "\n",
        "def plot_transactions(df):\n",
        "    df.set_index(\"Date\",inplace=True)\n",
        "    income_df=df[df[\"Category\"]==\"Income\"].resample(\"D\").sum().reindex(df.index,fill_value=0)\n",
        "    expense_df=df[df[\"Category\"]==\"Expense\"].resample(\"D\").sum().reindex(df.index,fill_value=0)\n",
        "    plt.figure(figsize=(10,5))\n",
        "    plt.plot(income_df.index,income_df[\"Amount\"],label=\"Income\",color=\"b\")\n",
        "    plt.plot(expense_df.index,expense_df[\"Amount\"],label=\"Expense\",color=\"r\")\n",
        "    plt.xlabel(\"Date\")\n",
        "    plt.ylabel(\"Amount\")\n",
        "    plt.legend()\n",
        "    plt.grid(True)\n",
        "    plt.show()\n",
        "\n",
        "def main():\n",
        "    while True:\n",
        "        print(\"\\n1.Add a new transcation\")\n",
        "        print(\"2.View the Transaction and summary within the range\")\n",
        "        print(\"3.Exit\")\n",
        "        choice=input(\"Enter the choice (1-3):\")\n",
        "        if choice==\"1\":\n",
        "            add()\n",
        "        elif choice==\"2\":\n",
        "            start_date=get_date(\"Enter the start_date (dd-mm-yyyy):\")\n",
        "            end_date=get_date(\"Enter the end_date (dd-mm-yyyy):\")\n",
        "            df=CSV.get_transactions(start_date,end_date)\n",
        "            if input(\"do u want to see graph?(y/n)\").upper()==\"Y\":\n",
        "                plot_transactions(df)\n",
        "        elif choice==\"3\":\n",
        "            print(\"Exiting..\")\n",
        "            break\n",
        "        else:\n",
        "            print(\"Invalid choice.Enter 1, 2, or 3\")\n",
        "\n",
        "if __name__==\"__main__\":\n",
        "    main()\n",
        "\n",
        "\n"
      ]
    },
    {
      "cell_type": "code",
      "source": [],
      "metadata": {
        "id": "3HhDDBUesKOS"
      },
      "execution_count": null,
      "outputs": []
    }
  ]
}